{
 "cells": [
  {
   "cell_type": "markdown",
   "id": "1170725c-bc68-4a15-8ff1-d130df7f7991",
   "metadata": {},
   "source": [
    "# Data Science Tools and Ecosystem"
   ]
  },
  {
   "cell_type": "markdown",
   "id": "27081f63-48f5-4fa6-a84a-0da22b68f9e3",
   "metadata": {},
   "source": [
    "In this notebook, Data Science Tools and Ecosystem are summarized."
   ]
  },
  {
   "cell_type": "markdown",
   "id": "38fcb154-1543-4df3-ba99-7a349195b37c",
   "metadata": {},
   "source": [
    "**Objectives:**\n",
    "\n",
    "- List popular languages for Data Science\n",
    "- Introduce arithmetic expression examples in Python\n",
    "- Demonstrate converting minutes to hours\n",
    "- Highlight key open source development environment tools used in Data Science"
   ]
  },
  {
   "cell_type": "markdown",
   "id": "84a1fa21-d686-46d8-bb2b-a8f34d370429",
   "metadata": {},
   "source": [
    "Some of the popular languages that Data Scientists use are:\n",
    "1. Python\n",
    "2. R\n",
    "3. SQL"
   ]
  },
  {
   "cell_type": "markdown",
   "id": "282245ea-7eef-4f58-a6c4-152a98c066a4",
   "metadata": {},
   "source": [
    "Some of the commonly used libraries used by Data Scientists include:\n",
    "1. NumPy\n",
    "2. Matplotlib\n",
    "3. Pandas"
   ]
  },
  {
   "cell_type": "markdown",
   "id": "c50357a1-84a6-4f55-83ce-7878febea92a",
   "metadata": {},
   "source": [
    "| Data Science Tools       |\n",
    "|--------------------------|\n",
    "| Jupyter Notebook         |\n",
    "| RStudio                  |\n",
    "| Apache Zeppelin          |\n"
   ]
  },
  {
   "cell_type": "markdown",
   "id": "8cc91f19-a00d-4265-b765-3dcc8b54f347",
   "metadata": {},
   "source": [
    "### Below are a few examples of evaluating arithmetic expressions in Python\n",
    "\n",
    "1. **Addition**: `3 + 2` equals `5`\n",
    "2. **Subtraction**: `7 - 4` equals `3`\n",
    "3. **Multiplication**: `6 * 5` equals `30`\n",
    "4. **Division**: `8 / 2` equals `4.0`\n",
    "5. **Exponentiation**: `2 ** 3` equals `8`\n",
    "6. **Modulo**: `10 % 3` equals `1`"
   ]
  },
  {
   "cell_type": "code",
   "execution_count": 2,
   "id": "aec01d9d-0149-4a16-a508-7b91ba571926",
   "metadata": {},
   "outputs": [
    {
     "data": {
      "text/plain": [
       "17"
      ]
     },
     "execution_count": 2,
     "metadata": {},
     "output_type": "execute_result"
    }
   ],
   "source": [
    "# This is a simple arithmetic expression to multiply then add integers\n",
    "result = (3 * 4) + 5\n",
    "result"
   ]
  },
  {
   "cell_type": "code",
   "execution_count": 3,
   "id": "27530c68-dfe5-4135-a24f-2fd2e3ff6b28",
   "metadata": {},
   "outputs": [
    {
     "data": {
      "text/plain": [
       "3.3333333333333335"
      ]
     },
     "execution_count": 3,
     "metadata": {},
     "output_type": "execute_result"
    }
   ],
   "source": [
    "# This will convert 200 minutes to hours by dividing by 60\n",
    "hours = 200 / 60\n",
    "hours"
   ]
  },
  {
   "cell_type": "markdown",
   "id": "b0d49400-c958-4d6a-a3a4-bb192714bdf3",
   "metadata": {},
   "source": [
    "## Author\n",
    "\n",
    "Aufii Fathin Nabila"
   ]
  },
  {
   "cell_type": "code",
   "execution_count": null,
   "id": "5c4cd4cd-c380-4f1a-b24f-138ba59597d0",
   "metadata": {},
   "outputs": [],
   "source": []
  }
 ],
 "metadata": {
  "kernelspec": {
   "display_name": "Python 3 (ipykernel)",
   "language": "python",
   "name": "python3"
  },
  "language_info": {
   "codemirror_mode": {
    "name": "ipython",
    "version": 3
   },
   "file_extension": ".py",
   "mimetype": "text/x-python",
   "name": "python",
   "nbconvert_exporter": "python",
   "pygments_lexer": "ipython3",
   "version": "3.12.4"
  }
 },
 "nbformat": 4,
 "nbformat_minor": 5
}
